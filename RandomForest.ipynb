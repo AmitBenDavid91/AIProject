{
 "cells": [
  {
   "cell_type": "code",
   "execution_count": 36,
   "id": "fa733ed5",
   "metadata": {},
   "outputs": [],
   "source": [
    "import pandas as pd\n",
    "import numpy as np \n",
    "import seaborn as sns\n",
    "import matplotlib.pyplot as plt\n",
    "%matplotlib inline\n",
    "\n",
    "sns.set_style('dark')\n",
    "\n",
    "import warnings\n",
    "warnings.filterwarnings('ignore')\n",
    "\n",
    "from sklearn.preprocessing import LabelEncoder, StandardScaler\n",
    "from sklearn.model_selection import train_test_split, cross_val_score, cross_validate\n",
    "from sklearn.metrics import plot_confusion_matrix, confusion_matrix, accuracy_score\n",
    "from sklearn.ensemble import RandomForestRegressor, RandomForestClassifier\n",
    "from sklearn import metrics"
   ]
  },
  {
   "cell_type": "code",
   "execution_count": 37,
   "id": "255d2729",
   "metadata": {},
   "outputs": [],
   "source": [
    "h_names=['class', 'cap-shape', 'Cap-surface','cap-color', 'bruises', 'odor','gill-attachment', 'gill-spacing', 'gill-size','gill-color', 'stalk-shape', 'stalk-surface-above-ring','stalk-surface-below-ring', 'stalk-color-above-ring', 'stalk-color-below','veil-type','veil-color','ring-number','ring-type','spore-print-color','population','habitat']\n",
    "\n",
    "filename = 'mushrooms_data.txt'\n",
    "\n",
    "mushroom= pd.read_csv(filename,names=h_names)"
   ]
  },
  {
   "cell_type": "code",
   "execution_count": 38,
   "id": "d6db8f76",
   "metadata": {},
   "outputs": [],
   "source": [
    "mushroom.drop(columns=['veil-type'], axis=1, inplace=True)\n"
   ]
  },
  {
   "cell_type": "code",
   "execution_count": 39,
   "id": "d9b3fef1",
   "metadata": {},
   "outputs": [
    {
     "name": "stdout",
     "output_type": "stream",
     "text": [
      "class ['e' 'p']\n",
      "cap-shape ['b' 'c' 'f' 'k' 's' 'x']\n",
      "Cap-surface ['f' 'g' 's' 'y']\n",
      "cap-color ['b' 'c' 'e' 'g' 'n' 'p' 'r' 'u' 'w' 'y']\n",
      "bruises ['f' 't']\n",
      "odor ['a' 'c' 'f' 'l' 'm' 'n' 'p' 's' 'y']\n",
      "gill-attachment ['a' 'f']\n",
      "gill-spacing ['c' 'w']\n",
      "gill-size ['b' 'n']\n",
      "gill-color ['b' 'e' 'g' 'h' 'k' 'n' 'o' 'p' 'r' 'u' 'w' 'y']\n",
      "stalk-shape ['e' 't']\n",
      "stalk-surface-above-ring ['f' 'k' 's']\n",
      "stalk-surface-below-ring ['f' 'k' 's' 'y']\n",
      "stalk-color-above-ring ['b' 'c' 'e' 'g' 'n' 'o' 'p' 'w']\n",
      "stalk-color-below ['b' 'c' 'e' 'g' 'n' 'o' 'p' 'w' 'y']\n",
      "veil-color ['n' 'o' 'w']\n",
      "ring-number ['n' 'o' 't']\n",
      "ring-type ['e' 'f' 'l' 'n' 'p']\n",
      "spore-print-color ['h' 'k' 'n' 'o' 'r' 'u' 'w' 'y']\n",
      "population ['a' 'c' 'n' 's' 'v' 'y']\n",
      "habitat ['d' 'g' 'l' 'm' 'p' 'u' 'w']\n"
     ]
    }
   ],
   "source": [
    "def Label_enc(feature):\n",
    "    LE = LabelEncoder()\n",
    "    LE.fit(feature)\n",
    "    print(feature.name,LE.classes_)\n",
    "    return LE.transform(feature)\n",
    "for col in mushroom.columns:\n",
    "    mushroom[str(col)] = Label_enc(mushroom[str(col)])"
   ]
  },
  {
   "cell_type": "code",
   "execution_count": 40,
   "id": "f86a24bf",
   "metadata": {},
   "outputs": [],
   "source": [
    "x = mushroom.drop(columns=['odor'], axis=1)\n",
    "y = mushroom['odor']"
   ]
  },
  {
   "cell_type": "code",
   "execution_count": 41,
   "id": "4e3a9352",
   "metadata": {},
   "outputs": [],
   "source": [
    "x_train, x_test, y_train, y_test = train_test_split(x, y, test_size=0.3, random_state=0)"
   ]
  },
  {
   "cell_type": "code",
   "execution_count": 42,
   "id": "60e53472",
   "metadata": {},
   "outputs": [
    {
     "name": "stdout",
     "output_type": "stream",
     "text": [
      "Random Forest Classifier Accuracy Value: 0.81\n"
     ]
    }
   ],
   "source": [
    "model = RandomForestClassifier()\n",
    "model.fit(x_train, y_train)\n",
    "y_predict = model.predict(x_test)\n",
    "\n",
    "\n",
    "from sklearn.metrics import accuracy_score\n",
    "accuracy=accuracy_score(y_test,y_predict)\n",
    "print(\"Random Forest Classifier Accuracy Value: {:.2f}\".format(accuracy))"
   ]
  },
  {
   "cell_type": "code",
   "execution_count": 43,
   "id": "fe7f7ae7",
   "metadata": {},
   "outputs": [
    {
     "data": {
      "text/plain": [
       "array([[ 16,   0,   0,  99,   0,   0,   0,   0],\n",
       "       [  0,  49,   0,   0,   0,   0,   0,   0],\n",
       "       [  0,   0, 488,   0,   0,   0,  22,  31],\n",
       "       [116,   0,   0,  20,   0,   0,   0,   0],\n",
       "       [  0,   0,   0,   0, 919,   0,   0,   0],\n",
       "       [  0,   0,   0,   0,   0,  63,   0,   0],\n",
       "       [  0,   0,  25,   0,   0,   0,   7,  20],\n",
       "       [  0,   0,  35,   0,   0,   0,  29,  11]], dtype=int64)"
      ]
     },
     "execution_count": 43,
     "metadata": {},
     "output_type": "execute_result"
    }
   ],
   "source": [
    "confmat1 = confusion_matrix(y_predict, y_test)\n",
    "confmat1"
   ]
  },
  {
   "cell_type": "code",
   "execution_count": 44,
   "id": "330bf9a0",
   "metadata": {},
   "outputs": [
    {
     "data": {
      "text/plain": [
       "<sklearn.metrics._plot.confusion_matrix.ConfusionMatrixDisplay at 0x114b471a4c8>"
      ]
     },
     "execution_count": 44,
     "metadata": {},
     "output_type": "execute_result"
    },
    {
     "data": {
      "image/png": "[encoded data removed]",
      "text/plain": [
       "<Figure size 432x288 with 2 Axes>"
      ]
     },
     "metadata": {},
     "output_type": "display_data"
    }
   ],
   "source": [
    "cm=metrics.ConfusionMatrixDisplay(confusion_matrix=metrics.confusion_matrix(y_predict,y_test,labels=model.classes_),\n",
    "                              display_labels=model.classes_)\n",
    "cm.plot(cmap=\"flare\")"
   ]
  },
  {
   "cell_type": "code",
   "execution_count": 45,
   "id": "8790b15c",
   "metadata": {},
   "outputs": [
    {
     "name": "stdout",
     "output_type": "stream",
     "text": [
      "Confusion matrix Accuracy is: 0.8066666666666666\n"
     ]
    }
   ],
   "source": [
    "print('Confusion matrix Accuracy is: {}'.format(metrics.accuracy_score(y_test, y_predict)))"
   ]
  },
  {
   "cell_type": "code",
   "execution_count": 46,
   "id": "e591b5d2",
   "metadata": {},
   "outputs": [],
   "source": [
    "#with removing less correlation data\n",
    "\n",
    "X = mushroom.drop(['odor','gill-color','bruises','class','cap-color','ring-type','bruises'],axis=1)\n",
    "y = mushroom['odor']\n",
    "\n",
    "X_train, X_test, y_train, y_test = train_test_split(\n",
    "     X, y, test_size=0.4,random_state=42)"
   ]
  },
  {
   "cell_type": "code",
   "execution_count": 47,
   "id": "417b297d",
   "metadata": {},
   "outputs": [
    {
     "data": {
      "text/plain": [
       "0.8392307692307692"
      ]
     },
     "execution_count": 47,
     "metadata": {},
     "output_type": "execute_result"
    }
   ],
   "source": [
    "model_1 = RandomForestClassifier(max_depth=10, random_state=0)\n",
    "model_1.fit(X_train, y_train)\n",
    "y_pred = model_1.predict(X_test)\n",
    "accuracy_score(y_test,y_pred)\n",
    "#we can see that we  get better score.\n"
   ]
  },
  {
   "cell_type": "code",
   "execution_count": 48,
   "id": "bc051933",
   "metadata": {},
   "outputs": [
    {
     "name": "stdout",
     "output_type": "stream",
     "text": [
      "<class 'sklearn.metrics._plot.confusion_matrix.ConfusionMatrixDisplay'>\n"
     ]
    },
    {
     "data": {
      "image/png": "[encoded data removed]",
      "text/plain": [
       "<Figure size 432x288 with 2 Axes>"
      ]
     },
     "metadata": {},
     "output_type": "display_data"
    }
   ],
   "source": [
    "\n",
    "cm =metrics.ConfusionMatrixDisplay(confusion_matrix=metrics.confusion_matrix(y_pred,y_test,labels=model_1.classes_),\n",
    "                              display_labels=model_1.classes_)\n",
    "df_cm1 = pd.DataFrame(z)\n",
    "\n",
    "cm.plot(cmap=\"flare\")\n",
    "\n",
    "print(type(cm))"
   ]
  },
  {
   "cell_type": "code",
   "execution_count": 35,
   "id": "9279c938",
   "metadata": {},
   "outputs": [
    {
     "name": "stdout",
     "output_type": "stream",
     "text": [
      "Confusion matrix Accuracy is: 0.8392307692307692\n"
     ]
    }
   ],
   "source": [
    "print('Confusion matrix Accuracy is: {}'.format(metrics.accuracy_score(y_test, y_pred)))\n"
   ]
  },
  {
   "cell_type": "code",
   "execution_count": null,
   "id": "a79ce4ea",
   "metadata": {},
   "outputs": [],
   "source": []
  }
 ],
 "metadata": {
  "kernelspec": {
   "display_name": "Python 3",
   "language": "python",
   "name": "python3"
  },
  "language_info": {
   "codemirror_mode": {
    "name": "ipython",
    "version": 3
   },
   "file_extension": ".py",
   "mimetype": "text/x-python",
   "name": "python",
   "nbconvert_exporter": "python",
   "pygments_lexer": "ipython3",
   "version": "3.7.10"
  }
 },
 "nbformat": 4,
 "nbformat_minor": 5
}
